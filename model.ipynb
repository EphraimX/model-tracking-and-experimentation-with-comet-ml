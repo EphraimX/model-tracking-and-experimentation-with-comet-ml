{
 "cells": [
  {
   "cell_type": "code",
   "execution_count": 8,
   "id": "47e47621",
   "metadata": {},
   "outputs": [],
   "source": [
    "import pandas as pd\n",
    "from sklearn.model_selection import train_test_split"
   ]
  },
  {
   "cell_type": "code",
   "execution_count": 9,
   "id": "9b946f5b",
   "metadata": {},
   "outputs": [],
   "source": [
    "df = pd.read_csv('data/corrected_fame_dataset.csv')\n",
    "cols_to_drop = ['name','released']\n",
    "df.drop(columns=cols_to_drop, inplace=True)"
   ]
  },
  {
   "cell_type": "code",
   "execution_count": 10,
   "id": "aa3973a7",
   "metadata": {},
   "outputs": [],
   "source": [
    "col_to_predict = 'is_movie_successful'\n",
    "X =  df.drop(columns=col_to_predict) \n",
    "y = df[col_to_predict]"
   ]
  },
  {
   "cell_type": "code",
   "execution_count": 14,
   "id": "1fbd25bb",
   "metadata": {},
   "outputs": [],
   "source": [
    "from sklearn.pipeline import Pipeline\n",
    "from sklearn.preprocessing import OneHotEncoder, StandardScaler\n",
    "from sklearn.compose import ColumnTransformer\n",
    "from sklearn.impute import SimpleImputer\n",
    "\n",
    "\n",
    "categorical_pipeline = Pipeline(\n",
    "    steps=[\n",
    "        (\"oh-encode\", OneHotEncoder(handle_unknown=\"ignore\", sparse=False))\n",
    "    ]\n",
    ")\n",
    "\n",
    "numerical_pipeline = Pipeline(\n",
    "    steps=[\n",
    "        (\"scale\", StandardScaler())\n",
    "    ]\n",
    ")\n",
    "\n",
    "cat_cols = X.select_dtypes(exclude=\"number\").columns\n",
    "num_cols = X.select_dtypes(include=\"number\").columns\n",
    "\n",
    "\n",
    "full_processor = ColumnTransformer(\n",
    "    transformers=[\n",
    "        (\"numeric\", numerical_pipeline, num_cols),\n",
    "        (\"categorical\", categorical_pipeline, cat_cols)\n",
    "    ]\n",
    ")"
   ]
  },
  {
   "cell_type": "code",
   "execution_count": 15,
   "id": "53f0c046",
   "metadata": {},
   "outputs": [
    {
     "name": "stdout",
     "output_type": "stream",
     "text": [
      "<class 'xgboost.sklearn.XGBClassifier'>\n"
     ]
    }
   ],
   "source": [
    "import xgboost as xgb\n",
    "\n",
    "xgb_cl = xgb.XGBClassifier()\n",
    "\n",
    "print(type(xgb_cl))"
   ]
  },
  {
   "cell_type": "code",
   "execution_count": 21,
   "id": "66fb9674",
   "metadata": {},
   "outputs": [],
   "source": [
    "X_processed = full_processor.fit_transform(X)\n",
    "y_processed = y.map({'Yes': 1, 'No': 0}).values.reshape(-1, 1)\n",
    "\n",
    "\n",
    "from sklearn.model_selection import train_test_split\n",
    "\n",
    "X_train, X_test, y_train, y_test = train_test_split(\n",
    "    X_processed, y_processed, stratify=y_processed, random_state=1121218\n",
    ")"
   ]
  },
  {
   "cell_type": "code",
   "execution_count": 23,
   "id": "cacc8e7e",
   "metadata": {},
   "outputs": [
    {
     "data": {
      "text/plain": [
       "1.0"
      ]
     },
     "execution_count": 23,
     "metadata": {},
     "output_type": "execute_result"
    }
   ],
   "source": [
    "from sklearn.metrics import accuracy_score\n",
    "\n",
    "xgb_cl.fit(X_train, y_train)\n",
    "\n",
    "preds = xgb_cl.predict(X_test)\n",
    "\n",
    "accuracy_score(y_test, preds)"
   ]
  },
  {
   "cell_type": "code",
   "execution_count": 25,
   "id": "57ecc9e3",
   "metadata": {},
   "outputs": [
    {
     "data": {
      "text/plain": [
       "array([[1003,    0],\n",
       "       [   0,  914]], dtype=int64)"
      ]
     },
     "execution_count": 25,
     "metadata": {},
     "output_type": "execute_result"
    }
   ],
   "source": [
    "from sklearn.metrics import confusion_matrix\n",
    "confusion_matrix(y_test, preds)"
   ]
  },
  {
   "cell_type": "code",
   "execution_count": null,
   "id": "ccf77ea6",
   "metadata": {},
   "outputs": [],
   "source": []
  },
  {
   "cell_type": "code",
   "execution_count": 4,
   "id": "65656b15",
   "metadata": {},
   "outputs": [],
   "source": [
    "categorical_columns = ['rating', 'genre', 'year','director','writer','star','country','company','month_released']\n",
    "X = pd.get_dummies(data=X, columns=categorical_columns)\n",
    "y = y.map({'Yes': 1, 'No': 0})"
   ]
  },
  {
   "cell_type": "code",
   "execution_count": 5,
   "id": "701a17b8",
   "metadata": {},
   "outputs": [],
   "source": [
    "X_train, X_val, y_train, y_val =  train_test_split(X, y, test_size=0.25, random_state=42)"
   ]
  },
  {
   "cell_type": "code",
   "execution_count": 6,
   "id": "3518e5e0",
   "metadata": {},
   "outputs": [
    {
     "name": "stdout",
     "output_type": "stream",
     "text": [
      "(5751, 12841) (5751,)\n",
      "(1917, 12841) (1917,)\n"
     ]
    }
   ],
   "source": [
    "print(X_train.shape, y_train.shape)\n",
    "print(X_val.shape, y_val.shape)"
   ]
  },
  {
   "cell_type": "code",
   "execution_count": 7,
   "id": "fa210121",
   "metadata": {},
   "outputs": [],
   "source": [
    "from sklearn.ensemble import RandomForestClassifier\n",
    "random_model = RandomForestClassifier()"
   ]
  },
  {
   "cell_type": "code",
   "execution_count": 8,
   "id": "45133682",
   "metadata": {},
   "outputs": [],
   "source": [
    "random_model.fit(X_train, y_train)\n",
    "y_pred = random_model.predict(X_val)"
   ]
  },
  {
   "cell_type": "code",
   "execution_count": 9,
   "id": "402d27bf",
   "metadata": {},
   "outputs": [
    {
     "data": {
      "text/plain": [
       "array([[1003,    2],\n",
       "       [   1,  911]], dtype=int64)"
      ]
     },
     "execution_count": 9,
     "metadata": {},
     "output_type": "execute_result"
    }
   ],
   "source": [
    "from sklearn.metrics import accuracy_score, confusion_matrix\n",
    "\n",
    "confusion_matrix(y_val, y_pred)"
   ]
  },
  {
   "cell_type": "code",
   "execution_count": 10,
   "id": "b0d0fb0c",
   "metadata": {},
   "outputs": [
    {
     "data": {
      "text/plain": [
       "99.8435054773083"
      ]
     },
     "execution_count": 10,
     "metadata": {},
     "output_type": "execute_result"
    }
   ],
   "source": [
    "accuracy_score(y_val, y_pred) * 100"
   ]
  },
  {
   "cell_type": "code",
   "execution_count": null,
   "id": "2c16177b",
   "metadata": {},
   "outputs": [],
   "source": []
  }
 ],
 "metadata": {
  "kernelspec": {
   "display_name": "Python 3.10.4 ('env': venv)",
   "language": "python",
   "name": "python3"
  },
  "language_info": {
   "codemirror_mode": {
    "name": "ipython",
    "version": 3
   },
   "file_extension": ".py",
   "mimetype": "text/x-python",
   "name": "python",
   "nbconvert_exporter": "python",
   "pygments_lexer": "ipython3",
   "version": "3.10.4"
  },
  "vscode": {
   "interpreter": {
    "hash": "8504653f086431892bc6481d5d89585c0a8e5ced32214fef9c13e0bc27308f38"
   }
  }
 },
 "nbformat": 4,
 "nbformat_minor": 5
}
